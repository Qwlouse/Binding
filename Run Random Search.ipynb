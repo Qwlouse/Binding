{
 "cells": [
  {
   "cell_type": "code",
   "execution_count": 1,
   "metadata": {
    "collapsed": true
   },
   "outputs": [],
   "source": [
    "from __future__ import division, print_function, unicode_literals\n",
    "from sacred.observers import MongoObserver\n",
    "from dae import ex\n",
    "import dispy"
   ]
  },
  {
   "cell_type": "code",
   "execution_count": 5,
   "metadata": {
    "collapsed": true
   },
   "outputs": [],
   "source": [
    "cluster_nodes = ['put', 'your', 'nodes', 'here']\n",
    "\n",
    "mongo_db = {\n",
    "    'url': 'DATABASE_IP_HERE:27017',\n",
    "    'db': 'binding_via_rc'\n",
    "}"
   ]
  },
  {
   "cell_type": "code",
   "execution_count": 3,
   "metadata": {
    "collapsed": false
   },
   "outputs": [
    {
     "name": "stderr",
     "output_type": "stream",
     "text": [
      "2016-01-16 17:57:08,627 - dispy - Storing fault recovery information in \"_dispy_20160116175708\"\n",
      "INFO:dispy:Storing fault recovery information in \"_dispy_20160116175708\"\n"
     ]
    }
   ],
   "source": [
    "cluster = dispy.JobCluster('dae.py', nodes=cluster_nodes)"
   ]
  },
  {
   "cell_type": "code",
   "execution_count": 4,
   "metadata": {
    "collapsed": false
   },
   "outputs": [
    {
     "data": {
      "text/plain": [
       "ClusterStatus(nodes=[<dispy.DispyNode object at 0x7fb865659d30>], jobs_pending=0)"
      ]
     },
     "execution_count": 4,
     "metadata": {},
     "output_type": "execute_result"
    }
   ],
   "source": [
    "cluster.status()"
   ]
  },
  {
   "cell_type": "code",
   "execution_count": 6,
   "metadata": {
    "collapsed": false
   },
   "outputs": [],
   "source": [
    "# Random Search\n",
    "nr_runs_per_dataset = 100\n",
    "datasets = {\n",
    "    'bars': 12, \n",
    "    'corners': 5,\n",
    "    'shapes': 3,\n",
    "    'multi_mnist': 3,\n",
    "    'mnist_shape': 2,\n",
    "    'simple_superpos':2\n",
    "}\n",
    "\n",
    "jobs = []\n",
    "for ds, k in datasets.items():\n",
    "    for i in range(nr_runs_per_dataset):\n",
    "        job = cluster.submit('-m', '{url}:{db}.random_search'.format(**mongo_db), 'with', \n",
    "                             'random_search',\n",
    "                             'dataset.name={}'.format(ds),\n",
    "                             'verbose=False',\n",
    "                             'em.k={}'.format(k))\n",
    "        jobs.append(job)\n",
    "        \n"
   ]
  },
  {
   "cell_type": "code",
   "execution_count": 7,
   "metadata": {
    "collapsed": false
   },
   "outputs": [],
   "source": [
    "# Multi-Train Runs\n",
    "multi_jobs = []\n",
    "for ds, k in datasets.items():\n",
    "    if ds == \"simple_superpos\": continue\n",
    "    for i in range(nr_runs_per_dataset):\n",
    "        job = cluster.submit('-m', '{url}:{db}.train_multi'.format(**mongo_db), 'with', \n",
    "                             'random_search',\n",
    "                             'dataset.name={}'.format(ds),\n",
    "                             'dataset.train_set=train_multi',\n",
    "                             'em.e_step=max',\n",
    "                             'verbose=False',\n",
    "                             'em.k={}'.format(k))\n",
    "        multi_jobs.append(job)"
   ]
  },
  {
   "cell_type": "code",
   "execution_count": 8,
   "metadata": {
    "collapsed": true
   },
   "outputs": [],
   "source": [
    "# MSE-Likelihood Runs\n",
    "mse_jobs = []\n",
    "for ds, k in datasets.items():\n",
    "    for i in range(nr_runs_per_dataset):\n",
    "        job = cluster.submit('-m', '{url}:{db}.mse_likelihood'.format(**mongo_db), 'with', \n",
    "                             'random_search',\n",
    "                             'dataset.name={}'.format(ds),\n",
    "                             'dataset.salt_n_pepper=0.3',\n",
    "                             'network_spec=Fr250',\n",
    "                             'verbose=False',\n",
    "                             'em.k={}'.format(k))\n",
    "        mse_jobs.append(job)"
   ]
  },
  {
   "cell_type": "code",
   "execution_count": null,
   "metadata": {
    "collapsed": true
   },
   "outputs": [],
   "source": []
  }
 ],
 "metadata": {
  "kernelspec": {
   "display_name": "Python 3",
   "language": "python",
   "name": "python3"
  },
  "language_info": {
   "codemirror_mode": {
    "name": "ipython",
    "version": 3
   },
   "file_extension": ".py",
   "mimetype": "text/x-python",
   "name": "python",
   "nbconvert_exporter": "python",
   "pygments_lexer": "ipython3",
   "version": "3.4.3"
  }
 },
 "nbformat": 4,
 "nbformat_minor": 0
}
