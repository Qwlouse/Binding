{
 "cells": [
  {
   "cell_type": "code",
   "execution_count": 1,
   "metadata": {
    "collapsed": false
   },
   "outputs": [
    {
     "name": "stderr",
     "output_type": "stream",
     "text": [
      "/home/greff/venv/py3/lib/python3.4/site-packages/matplotlib-1.5.0+783.g23bc09d-py3.4-linux-x86_64.egg/matplotlib/__init__.py:877: UserWarning: axes.color_cycle is deprecated and replaced with axes.prop_cycle; please use the latter.\n",
      "  warnings.warn(self.msg_depr % (key, alt_key))\n"
     ]
    }
   ],
   "source": [
    "import numpy as np\n",
    "import matplotlib.pyplot as plt\n",
    "from plot_tools import plot_groups, plot_input_image\n",
    "import h5py\n",
    "import os\n",
    "import os.path\n",
    "%matplotlib inline\n",
    "np.random.seed(9825619)\n",
    "\n",
    "data_dir = os.environ.get('BRAINSTORM_DATA_DIR', '.')"
   ]
  },
  {
   "cell_type": "code",
   "execution_count": 2,
   "metadata": {
    "collapsed": true
   },
   "outputs": [],
   "source": [
    "# Load the MNIST Dataset as prepared by the brainstorm data script\n",
    "# You will need to run brainstorm/data/create_mnist.py first\n",
    "with h5py.File(os.path.join(data_dir, 'MNIST.hdf5'), 'r') as f:\n",
    "    mnist_digits = f['normalized_full/training/default'][0, :]\n",
    "    mnist_targets = f['normalized_full/training/targets'][:]\n",
    "    mnist_digits_test = f['normalized_full/test/default'][0, :]\n",
    "    mnist_targets_test = f['normalized_full/test/targets'][:]"
   ]
  },
  {
   "cell_type": "markdown",
   "metadata": {},
   "source": [
    "# Multi MNIST\n",
    "\n",
    "Binary images containing three thresholded MNIST digits. (Same thresholding as in [1]).\n",
    "\n",
    "We chose the image size to be $48 \\times 48 = 2304$ because that is roughly $28 \\times 28 \\times 3 = 2352$"
   ]
  },
  {
   "cell_type": "code",
   "execution_count": 3,
   "metadata": {
    "collapsed": false
   },
   "outputs": [],
   "source": [
    "def crop(d):\n",
    "    return d[np.sum(d, 1) != 0][:, np.sum(d, 0) != 0]"
   ]
  },
  {
   "cell_type": "code",
   "execution_count": 4,
   "metadata": {
    "collapsed": false
   },
   "outputs": [],
   "source": [
    "def generate_multi_mnist_img(digit_nrs, size=(48, 48), test=False, binarize_threshold=0.5):\n",
    "    if not test:\n",
    "        digits = [crop(mnist_digits[nr].reshape(28, 28)) for nr in digit_nrs]\n",
    "    else:\n",
    "        digits = [crop(mnist_digits_test[nr].reshape(28, 28)) for nr in digit_nrs]\n",
    "        \n",
    "    img = np.zeros(size)\n",
    "    grp = np.zeros(size)\n",
    "    mask = np.zeros(size)\n",
    "    k = 1\n",
    "    \n",
    "    for i, digit in enumerate(digits):\n",
    "        h, w = size\n",
    "        sy, sx = digit.shape\n",
    "        x = np.random.randint(0, w-sx+1)\n",
    "        y = np.random.randint(0, h-sy+1)\n",
    "        region = (slice(y,y+sy), slice(x,x+sx))\n",
    "        m = digit >= binarize_threshold\n",
    "        img[region][m] = 1  \n",
    "        mask[region][m] += 1  \n",
    "        grp[region][m] = k      \n",
    "        k += 1\n",
    "        \n",
    "    grp[mask > 1] = 0  # ignore overlap regions\n",
    "    return img, grp\n",
    "    "
   ]
  },
  {
   "cell_type": "code",
   "execution_count": 5,
   "metadata": {
    "collapsed": false
   },
   "outputs": [
    {
     "data": {
      "image/png": "[encoded data removed]",
      "text/plain": [
       "<matplotlib.figure.Figure at 0x7fe61c5012b0>"
      ]
     },
     "metadata": {},
     "output_type": "display_data"
    }
   ],
   "source": [
    "fig, axes = plt.subplots(ncols=6, nrows=2, figsize=(16, 5))\n",
    "for ax in axes.T:\n",
    "    digit_nrs = np.random.randint(0, 60000, 3)\n",
    "    img, grp = generate_multi_mnist_img(digit_nrs)\n",
    "    plot_input_image(img, ax[0])\n",
    "    plot_groups(grp, ax[1])"
   ]
  },
  {
   "cell_type": "markdown",
   "metadata": {},
   "source": [
    "## Save as HDF5"
   ]
  },
  {
   "cell_type": "code",
   "execution_count": 6,
   "metadata": {
    "collapsed": false
   },
   "outputs": [],
   "source": [
    "np.random.seed(36520)\n",
    "nr_digits = 3\n",
    "nr_training_examples = 60000\n",
    "nr_test_examples = 10000\n",
    "nr_single_examples = 60000\n",
    "size = (48, 48)\n",
    "\n",
    "data = np.zeros((1, 60000) + size + (1,), dtype=np.float32)\n",
    "grps = np.zeros_like(data)\n",
    "targets = np.zeros((1, 60000, nr_digits), dtype=np.int)\n",
    "for i in range(60000):\n",
    "    digit_nrs = np.random.randint(0, 60000, nr_digits)\n",
    "    data[0, i, :, :, 0], grps[0, i, :, :, 0] = generate_multi_mnist_img(digit_nrs, size=size)\n",
    "    targets[0, i, :] = mnist_targets[0, digit_nrs, 0]\n",
    "    \n",
    "data_test = np.zeros((1, 10000) + size + (1,), dtype=np.float32)\n",
    "grps_test = np.zeros_like(data_test)\n",
    "targets_test = np.zeros((1, 10000, nr_digits), dtype=np.int)\n",
    "for i in range(10000):\n",
    "    digit_nrs = np.random.randint(0, 10000, nr_digits)\n",
    "    data_test[0, i, :, :, 0], grps_test[0, i, :, :, 0] = generate_multi_mnist_img(digit_nrs, size=size, test=True)\n",
    "    targets_test[0, i, :] = mnist_targets_test[0, digit_nrs, 0]\n",
    "    \n",
    "data_single = np.zeros((1, nr_single_examples) + size + (1,), dtype=np.float32)\n",
    "grps_single = np.zeros_like(data_single )\n",
    "targets_single = np.zeros((1, nr_single_examples, 1), dtype=np.int)\n",
    "for i in range(nr_single_examples):\n",
    "    data_single [0, i, :, :, 0], grps_single[0, i, :, :, 0] = generate_multi_mnist_img([i], size=size)\n",
    "    targets_single[0, i, :] = mnist_targets[0, i, 0]"
   ]
  },
  {
   "cell_type": "code",
   "execution_count": 7,
   "metadata": {
    "collapsed": false
   },
   "outputs": [],
   "source": [
    "with h5py.File(os.path.join(data_dir, 'multi_mnist.h5'), 'w') as f:\n",
    "    single = f.create_group('train_single')\n",
    "    single.create_dataset('default', data=data_single, compression='gzip', chunks=(1, 100) + size + (1,))\n",
    "    single.create_dataset('groups', data=grps_single, compression='gzip', chunks=(1, 100) + size + (1,))\n",
    "    single.create_dataset('targets', data=targets_single, compression='gzip', chunks=(1, 100, 1))\n",
    "    \n",
    "    train = f.create_group('train_multi')\n",
    "    train.create_dataset('default', data=data, compression='gzip', chunks=(1, 100) + size + (1,))\n",
    "    train.create_dataset('groups', data=grps, compression='gzip', chunks=(1, 100) + size + (1,))\n",
    "    train.create_dataset('targets', data=targets, compression='gzip', chunks=(1, 100, nr_digits))\n",
    "    \n",
    "    test = f.create_group('test')\n",
    "    test.create_dataset('default', data=data_test, compression='gzip', chunks=(1, 100) + size + (1,))\n",
    "    test.create_dataset('groups', data=grps_test, compression='gzip', chunks=(1, 100) + size + (1,))\n",
    "    test.create_dataset('targets', data=targets_test, compression='gzip', chunks=(1, 100, nr_digits))"
   ]
  },
  {
   "cell_type": "markdown",
   "metadata": {},
   "source": [
    "# References\n",
    "\n",
    "[1] Bishop, Christopher M. (2006) \"Pattern Recognition and Machine Learning (Information Science and Statistics)\"\n",
    "Springer-Verlag New York, Inc., Secaucus, NJ, USA.\n",
    "Section 9.3.3 p. 447"
   ]
  }
 ],
 "metadata": {
  "kernelspec": {
   "display_name": "Python 3",
   "language": "python",
   "name": "python3"
  },
  "language_info": {
   "codemirror_mode": {
    "name": "ipython",
    "version": 3
   },
   "file_extension": ".py",
   "mimetype": "text/x-python",
   "name": "python",
   "nbconvert_exporter": "python",
   "pygments_lexer": "ipython3",
   "version": "3.4.3"
  }
 },
 "nbformat": 4,
 "nbformat_minor": 0
}
