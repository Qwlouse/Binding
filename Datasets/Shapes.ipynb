{
 "cells": [
  {
   "cell_type": "code",
   "execution_count": 1,
   "metadata": {
    "collapsed": false
   },
   "outputs": [
    {
     "name": "stderr",
     "output_type": "stream",
     "text": [
      "/home/greff/venv/py3/lib/python3.4/site-packages/matplotlib/__init__.py:872: UserWarning: axes.color_cycle is deprecated and replaced with axes.prop_cycle; please use the latter.\n",
      "  warnings.warn(self.msg_depr % (key, alt_key))\n"
     ]
    }
   ],
   "source": [
    "import numpy as np\n",
    "import matplotlib.pyplot as plt\n",
    "from plot_tools import plot_groups, plot_input_image\n",
    "%matplotlib inline\n",
    "np.random.seed(104174)"
   ]
  },
  {
   "cell_type": "markdown",
   "metadata": {},
   "source": [
    "# Shapes Problem\n",
    "\n",
    "Binary images containing 3 random shapes each. Introduced in [1] to investigate binding in deep networks.\n"
   ]
  },
  {
   "cell_type": "code",
   "execution_count": 2,
   "metadata": {
    "collapsed": true
   },
   "outputs": [],
   "source": [
    "square = np.array(\n",
    "    [[1, 1, 1, 1, 1, 1, 1],\n",
    "     [1, 1, 1, 1, 1, 1, 1],\n",
    "     [1, 1, 0, 0, 0, 1, 1],\n",
    "     [1, 1, 0, 0, 0, 1, 1],\n",
    "     [1, 1, 0, 0, 0, 1, 1],\n",
    "     [1, 1, 1, 1, 1, 1, 1],\n",
    "     [1, 1, 1, 1, 1, 1, 1]])\n",
    "\n",
    "triangle = np.array(\n",
    "    [[0, 0, 0, 0, 0, 1, 1, 0, 0, 0, 0, 0],\n",
    "     [0, 0, 0, 0, 1, 1, 1, 1, 0, 0, 0, 0],\n",
    "     [0, 0, 0, 1, 1, 1, 1, 1, 1, 0, 0, 0],\n",
    "     [0, 0, 1, 1, 1, 0, 0, 1, 1, 1, 0, 0],\n",
    "     [0, 1, 1, 1, 0, 0, 0, 0, 1, 1, 1, 0],\n",
    "     [1, 1, 1, 1, 1, 1, 1, 1, 1, 1, 1, 1],\n",
    "     [1, 1, 1, 1, 1, 1, 1, 1, 1, 1, 1, 1]])\n",
    "\n",
    "shapes = [square, triangle, triangle[::-1, :].copy()]"
   ]
  },
  {
   "cell_type": "code",
   "execution_count": 3,
   "metadata": {
    "collapsed": true
   },
   "outputs": [],
   "source": [
    "def generate_shapes_image(width, height, nr_shapes=3):\n",
    "    img = np.zeros((height, width))\n",
    "    grp = np.zeros_like(img)\n",
    "    k = 1\n",
    "    \n",
    "    for i in range(nr_shapes):\n",
    "        shape = shapes[np.random.randint(0, len(shapes))]\n",
    "        sy, sx = shape.shape\n",
    "        x = np.random.randint(0, width-sx+1)\n",
    "        y = np.random.randint(0, height-sy+1)\n",
    "        region = (slice(y,y+sy), slice(x,x+sx))\n",
    "        img[region][shape != 0] += 1\n",
    "        grp[region][shape != 0] = k        \n",
    "        k += 1\n",
    "        \n",
    "    grp[img > 1] = 0\n",
    "    img = img != 0\n",
    "    return img, grp"
   ]
  },
  {
   "cell_type": "code",
   "execution_count": 4,
   "metadata": {
    "collapsed": false
   },
   "outputs": [
    {
     "data": {
      "image/png": "[encoded data removed]",
      "text/plain": [
       "<matplotlib.figure.Figure at 0x7f7ae8a9bd30>"
      ]
     },
     "metadata": {},
     "output_type": "display_data"
    }
   ],
   "source": [
    "fig, axes = plt.subplots(ncols=6, nrows=2, figsize=(16, 5))\n",
    "for ax in axes.T:\n",
    "    img, grp = generate_shapes_image(28, 28, 3)\n",
    "    plot_input_image(img, ax[0])\n",
    "    plot_groups(grp, ax[1])"
   ]
  },
  {
   "cell_type": "markdown",
   "metadata": {},
   "source": [
    "# Save as HDF5 Dataset"
   ]
  },
  {
   "cell_type": "code",
   "execution_count": 5,
   "metadata": {
    "collapsed": true
   },
   "outputs": [],
   "source": [
    "import h5py\n",
    "import os\n",
    "import os.path\n",
    "\n",
    "data_dir = os.environ.get('BRAINSTORM_DATA_DIR', '.')"
   ]
  },
  {
   "cell_type": "code",
   "execution_count": 6,
   "metadata": {
    "collapsed": false
   },
   "outputs": [],
   "source": [
    "np.random.seed(265076)\n",
    "nr_train_examples = 60000\n",
    "nr_test_examples = 10000\n",
    "nr_single_examples = 10000\n",
    "width = 28\n",
    "height = 28\n",
    "nr_shapes = 3\n",
    "\n",
    "data = np.zeros((1, nr_train_examples, height, width, 1), dtype=np.float32)\n",
    "grps = np.zeros_like(data)\n",
    "for i in range(nr_train_examples):\n",
    "    data[0, i, :, :, 0], grps[0, i, :, :, 0] = generate_shapes_image(width, height, nr_shapes)\n",
    "    \n",
    "data_test = np.zeros((1, nr_test_examples, height, width, 1), dtype=np.float32)\n",
    "grps_test = np.zeros_like(data_test)\n",
    "for i in range(nr_test_examples):\n",
    "    data_test[0, i, :, :, 0], grps_test[0, i, :, :, 0] = generate_shapes_image(width, height, nr_shapes)\n",
    "\n",
    "data_single = np.zeros((1, nr_single_examples, height, width, 1), dtype=np.float32)\n",
    "grps_single = np.zeros_like(data_single)\n",
    "for i in range(nr_single_examples):\n",
    "    data_single[0, i, :, :, 0], grps_single[0, i, :, :, 0] = generate_shapes_image(width, height, 1)"
   ]
  },
  {
   "cell_type": "code",
   "execution_count": 7,
   "metadata": {
    "collapsed": false
   },
   "outputs": [],
   "source": [
    "import h5py\n",
    "\n",
    "with h5py.File(os.path.join(data_dir, 'shapes.h5'), 'w') as f:\n",
    "    single = f.create_group('train_single')\n",
    "    single.create_dataset('default', data=data_single, compression='gzip', chunks=(1, 100, height, width, 1))\n",
    "    single.create_dataset('groups', data=grps_single, compression='gzip', chunks=(1, 100, height, width, 1))\n",
    "    \n",
    "    train = f.create_group('train_multi')\n",
    "    train.create_dataset('default', data=data, compression='gzip', chunks=(1, 100, height, width, 1))\n",
    "    train.create_dataset('groups', data=grps, compression='gzip', chunks=(1, 100, height, width, 1))\n",
    "    \n",
    "    test = f.create_group('test')\n",
    "    test.create_dataset('default', data=data_test, compression='gzip', chunks=(1, 100, height, width, 1))\n",
    "    test.create_dataset('groups', data=grps_test, compression='gzip', chunks=(1, 100, height, width, 1))"
   ]
  },
  {
   "cell_type": "markdown",
   "metadata": {},
   "source": [
    "# References\n",
    "[1] David P. Reichert and Thomas Serre, [Neuronal Synchrony in Complex-Valued Deep Networks](http://arxiv.org/abs/1312.6115), ICLR 2014\n",
    "\n"
   ]
  }
 ],
 "metadata": {
  "kernelspec": {
   "display_name": "Python 3",
   "language": "python",
   "name": "python3"
  },
  "language_info": {
   "codemirror_mode": {
    "name": "ipython",
    "version": 3
   },
   "file_extension": ".py",
   "mimetype": "text/x-python",
   "name": "python",
   "nbconvert_exporter": "python",
   "pygments_lexer": "ipython3",
   "version": "3.4.3"
  }
 },
 "nbformat": 4,
 "nbformat_minor": 0
}
