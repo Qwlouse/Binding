{
 "cells": [
  {
   "cell_type": "code",
   "execution_count": 1,
   "metadata": {
    "collapsed": false
   },
   "outputs": [
    {
     "name": "stderr",
     "output_type": "stream",
     "text": [
      "/home/greff/venv/py3/lib/python3.4/site-packages/matplotlib/__init__.py:872: UserWarning: axes.color_cycle is deprecated and replaced with axes.prop_cycle; please use the latter.\n",
      "  warnings.warn(self.msg_depr % (key, alt_key))\n"
     ]
    }
   ],
   "source": [
    "import numpy as np\n",
    "import matplotlib.pyplot as plt\n",
    "from plot_tools import plot_groups, plot_input_image\n",
    "%matplotlib inline\n",
    "np.random.seed(746519283)"
   ]
  },
  {
   "cell_type": "markdown",
   "metadata": {},
   "source": [
    "# Corners Problem\n",
    "\n",
    "Binary images containing 8 corner-pieces each. Four of them are arranged in a square, while the other 4 are randomly distributed. Introduced in [1] to investigate binding in deep networks.\n"
   ]
  },
  {
   "cell_type": "code",
   "execution_count": 2,
   "metadata": {
    "collapsed": false
   },
   "outputs": [],
   "source": [
    "width = 28\n",
    "height = 28\n",
    "\n",
    "corner = np.zeros((5, 5))\n",
    "corner[:2, :] = 1.0\n",
    "corner[:, :2] = 1.0\n",
    "\n",
    "corners = [\n",
    "    corner.copy(),\n",
    "    corner[::-1, :].copy(),\n",
    "    corner[:, ::-1].copy(),\n",
    "    corner[::-1, ::-1].copy()\n",
    "]\n",
    "\n",
    "square = np.zeros((20, 20))\n",
    "square[:5, :5] = corners[0]\n",
    "square[-5:, :5] = corners[1]\n",
    "square[:5, -5:] = corners[2]\n",
    "square[-5:, -5:] = corners[3]\n"
   ]
  },
  {
   "cell_type": "code",
   "execution_count": 3,
   "metadata": {
    "collapsed": true
   },
   "outputs": [],
   "source": [
    "def generate_corners_image(width, height, nr_squares=1, nr_corners=4):\n",
    "    img = np.zeros((height, width))\n",
    "    grp = np.zeros_like(img)\n",
    "    k = 1\n",
    "    \n",
    "    for i in range(nr_squares):\n",
    "        x = np.random.randint(0, width-19)\n",
    "        y = np.random.randint(0, height-19)\n",
    "        region = (slice(y,y+20), slice(x,x+20))\n",
    "        img[region][square != 0] += 1\n",
    "        grp[region][square != 0] = k        \n",
    "        k += 1\n",
    "    \n",
    "    for i in range(nr_corners):\n",
    "        x = np.random.randint(0, width-4)\n",
    "        y = np.random.randint(0, height-4)\n",
    "        corner = corners[np.random.randint(0, 4)]\n",
    "        region = (slice(y,y+5), slice(x,x+5))\n",
    "        img[region][corner != 0] += 1\n",
    "        grp[region][corner != 0] = k\n",
    "        k += 1\n",
    "        \n",
    "    grp[img > 1] = 0\n",
    "    img = img != 0\n",
    "    return img, grp\n",
    "    "
   ]
  },
  {
   "cell_type": "code",
   "execution_count": 4,
   "metadata": {
    "collapsed": false
   },
   "outputs": [
    {
     "data": {
      "image/png": "[encoded data removed]",
      "text/plain": [
       "<matplotlib.figure.Figure at 0x7f8f3beb8b70>"
      ]
     },
     "metadata": {},
     "output_type": "display_data"
    }
   ],
   "source": [
    "fig, axes = plt.subplots(ncols=6, nrows=2, figsize=(16, 5))\n",
    "for ax in axes.T:\n",
    "    img, grp = generate_corners_image(28, 28, 1, 4)\n",
    "    plot_input_image(img, ax[0])\n",
    "    plot_groups(grp, ax[1])"
   ]
  },
  {
   "cell_type": "markdown",
   "metadata": {},
   "source": [
    "# Save as dataset"
   ]
  },
  {
   "cell_type": "code",
   "execution_count": 5,
   "metadata": {
    "collapsed": true
   },
   "outputs": [],
   "source": [
    "import h5py\n",
    "import os\n",
    "import os.path\n",
    "\n",
    "data_dir = os.environ.get('BRAINSTORM_DATA_DIR', '.')"
   ]
  },
  {
   "cell_type": "code",
   "execution_count": 6,
   "metadata": {
    "collapsed": false
   },
   "outputs": [],
   "source": [
    "nr_train_examples = 60000\n",
    "nr_test_examples = 10000\n",
    "nr_single_examples = 5000\n",
    "\n",
    "width = 28\n",
    "height = 28\n",
    "nr_squares = 1\n",
    "nr_corners = 4\n",
    "\n",
    "data = np.zeros((1, nr_train_examples, height, width, 1), dtype=np.float32)\n",
    "grps = np.zeros_like(data)\n",
    "for i in range(nr_train_examples):\n",
    "    data[0, i, :, :, 0], grps[0, i, :, :, 0] = generate_corners_image(width, height, nr_squares, nr_corners)\n",
    "    \n",
    "data_test = np.zeros((1, nr_test_examples, height, width, 1), dtype=np.float32)\n",
    "grps_test = np.zeros_like(data_test)\n",
    "for i in range(nr_test_examples):\n",
    "    data_test[0, i, :, :, 0], grps_test[0, i, :, :, 0] = generate_corners_image(width, height, nr_squares, \n",
    "                                                                                nr_corners)\n",
    "\n",
    "data_single = np.zeros((1, nr_single_examples, height, width, 1), dtype=np.float32)\n",
    "grps_single = np.zeros_like(data_single)\n",
    "for i in range(nr_single_examples // 2):\n",
    "    data_single[0, i, :, :, 0], grps_single[0, i, :, :, 0] = generate_corners_image(width, height, 1, 0)\n",
    "for i in range(nr_single_examples // 2, nr_single_examples):\n",
    "    data_single[0, i, :, :, 0], grps_single[0, i, :, :, 0] = generate_corners_image(width, height, 0, 1)\n",
    "\n",
    "shuffel_idx = np.arange(nr_single_examples)\n",
    "np.random.shuffle(shuffel_idx)\n",
    "data_single = data_single[:, shuffel_idx]\n",
    "grps_single = grps_single[:, shuffel_idx]"
   ]
  },
  {
   "cell_type": "code",
   "execution_count": 7,
   "metadata": {
    "collapsed": true
   },
   "outputs": [],
   "source": [
    "with h5py.File(os.path.join(data_dir, 'corners.h5'), 'w') as f:\n",
    "    single = f.create_group('train_single')\n",
    "    single.create_dataset('default', data=data_single, compression='gzip', chunks=(1, 100, height, width, 1))\n",
    "    single.create_dataset('groups', data=grps_single, compression='gzip', chunks=(1, 100, height, width, 1))\n",
    "    \n",
    "    train = f.create_group('train_multi')\n",
    "    train.create_dataset('default', data=data, compression='gzip', chunks=(1, 100, height, width, 1))\n",
    "    train.create_dataset('groups', data=grps, compression='gzip', chunks=(1, 100, height, width, 1))\n",
    "    \n",
    "    test = f.create_group('test')\n",
    "    test.create_dataset('default', data=data_test, compression='gzip', chunks=(1, 100, height, width, 1))\n",
    "    test.create_dataset('groups', data=grps_test, compression='gzip', chunks=(1, 100, height, width, 1))"
   ]
  },
  {
   "cell_type": "markdown",
   "metadata": {},
   "source": [
    "# References\n",
    "[1] David P. Reichert and Thomas Serre, [Neuronal Synchrony in Complex-Valued Deep Networks](http://arxiv.org/abs/1312.6115), ICLR 2014\n",
    "\n"
   ]
  }
 ],
 "metadata": {
  "kernelspec": {
   "display_name": "Python 3",
   "language": "python",
   "name": "python3"
  },
  "language_info": {
   "codemirror_mode": {
    "name": "ipython",
    "version": 3
   },
   "file_extension": ".py",
   "mimetype": "text/x-python",
   "name": "python",
   "nbconvert_exporter": "python",
   "pygments_lexer": "ipython3",
   "version": "3.4.3"
  }
 },
 "nbformat": 4,
 "nbformat_minor": 0
}
