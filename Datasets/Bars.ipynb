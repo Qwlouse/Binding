{
 "cells": [
  {
   "cell_type": "code",
   "execution_count": 1,
   "metadata": {
    "collapsed": false
   },
   "outputs": [
    {
     "name": "stderr",
     "output_type": "stream",
     "text": [
      "/home/greff/venv/py3/lib/python3.4/site-packages/matplotlib-1.5.0+783.g23bc09d-py3.4-linux-x86_64.egg/matplotlib/__init__.py:877: UserWarning: axes.color_cycle is deprecated and replaced with axes.prop_cycle; please use the latter.\n",
      "  warnings.warn(self.msg_depr % (key, alt_key))\n"
     ]
    }
   ],
   "source": [
    "import numpy as np\n",
    "import matplotlib.pyplot as plt\n",
    "from plot_tools import plot_groups, plot_input_image\n",
    "%matplotlib inline\n",
    "np.random.seed(516371)"
   ]
  },
  {
   "cell_type": "markdown",
   "metadata": {},
   "source": [
    "# Adapted Bars Problem\n",
    "\n",
    "Binary images with a fixed number of randomly placed horizontal and vertical bars.\n",
    "    \n",
    "With width=height=20 and nr_horizontal_bars=nr_vertical_bars=6 this mimics the setup from [2]."
   ]
  },
  {
   "cell_type": "code",
   "execution_count": 2,
   "metadata": {
    "collapsed": true
   },
   "outputs": [],
   "source": [
    "def generate_bars(width, height, nr_horizontal_bars, nr_vertical_bars):\n",
    "    img = np.zeros((height, width), dtype=np.float)\n",
    "    grp = np.zeros_like(img)\n",
    "    \n",
    "    idx_vert = np.random.choice(np.arange(width), replace=False, size=nr_vertical_bars)\n",
    "    img[:, idx_vert] = 1.\n",
    "    k = 1\n",
    "    for i in idx_vert:\n",
    "        grp[:, i] = k\n",
    "        k += 1\n",
    "    \n",
    "    idx_horiz = np.random.choice(np.arange(height), replace=False, size=nr_horizontal_bars)\n",
    "    img[idx_horiz, :] += 1.\n",
    "    for i in idx_horiz:\n",
    "        grp[i, :] = k\n",
    "        k += 1\n",
    "    \n",
    "    grp[img > 1] = 0\n",
    "    img = img != 0\n",
    "    \n",
    "    return img, grp\n",
    "    "
   ]
  },
  {
   "cell_type": "code",
   "execution_count": 3,
   "metadata": {
    "collapsed": false
   },
   "outputs": [
    {
     "data": {
      "image/png": "[encoded data removed]",
      "text/plain": [
       "<matplotlib.figure.Figure at 0x7fafea02a2e8>"
      ]
     },
     "metadata": {},
     "output_type": "display_data"
    }
   ],
   "source": [
    "fig, axes = plt.subplots(ncols=6, nrows=2, figsize=(16,5))\n",
    "for ax in axes.T:\n",
    "    img, grp = generate_bars(20, 20, 6, 6)\n",
    "    plot_input_image(img, ax[0])\n",
    "    plot_groups(grp, ax[1])"
   ]
  },
  {
   "cell_type": "markdown",
   "metadata": {},
   "source": [
    "# Save as HDF5 Dataset\n"
   ]
  },
  {
   "cell_type": "code",
   "execution_count": 4,
   "metadata": {
    "collapsed": true
   },
   "outputs": [],
   "source": [
    "import h5py\n",
    "import os\n",
    "import os.path\n",
    "\n",
    "data_dir = os.environ.get('BRAINSTORM_DATA_DIR', '.')"
   ]
  },
  {
   "cell_type": "code",
   "execution_count": 5,
   "metadata": {
    "collapsed": true
   },
   "outputs": [],
   "source": [
    "np.random.seed(471958)\n",
    "nr_train_examples = 60000\n",
    "nr_test_examples = 10000\n",
    "nr_single_examples = 200\n",
    "width = 20\n",
    "height = 20\n",
    "nr_vert = 6\n",
    "nr_horiz= 6\n",
    "\n",
    "data = np.zeros((1, nr_train_examples, height, width, 1), dtype=np.float32)\n",
    "grps = np.zeros_like(data)\n",
    "for i in range(nr_train_examples):\n",
    "    data[0, i, :, :, 0], grps[0, i, :, :, 0] = generate_bars(width, height, nr_horiz, nr_vert)\n",
    "\n",
    "test_data = np.zeros((1, nr_train_examples, height, width, 1), dtype=np.float32)\n",
    "test_grps = np.zeros_like(test_data)\n",
    "for i in range(nr_train_examples):\n",
    "    test_data[0, i, :, :, 0], test_grps[0, i, :, :, 0] = generate_bars(width, height, nr_horiz, nr_vert)\n",
    "\n",
    "single_data = np.zeros((1, nr_single_examples, height, width, 1), dtype=np.float32)\n",
    "single_grps = np.zeros_like(single_data)\n",
    "for i in range(nr_single_examples // 2):\n",
    "    single_data[0, i, :, :, 0], single_grps[0, i, :, :, 0] = generate_bars(width, height, 1, 0)\n",
    "for i in range(nr_single_examples // 2, nr_single_examples):\n",
    "    single_data[0, i, :, :, 0], single_grps[0, i, :, :, 0] = generate_bars(width, height, 0, 1)\n",
    "\n",
    "shuffel_idx = np.arange(nr_single_examples)\n",
    "np.random.shuffle(shuffel_idx)\n",
    "single_data = single_data[:, shuffel_idx]\n",
    "single_grps = single_grps[:, shuffel_idx]"
   ]
  },
  {
   "cell_type": "code",
   "execution_count": 6,
   "metadata": {
    "collapsed": false
   },
   "outputs": [],
   "source": [
    "with h5py.File(os.path.join(data_dir, 'bars.h5'), 'w') as f:\n",
    "    single = f.create_group('train_single')\n",
    "    single.create_dataset('default', data=single_data, compression='gzip', chunks=(1, 100, height, width, 1))\n",
    "    single.create_dataset('groups', data=single_grps, compression='gzip', chunks=(1, 100, height, width, 1))\n",
    "    train = f.create_group('train_multi')\n",
    "    train.create_dataset('default', data=data, compression='gzip', chunks=(1, 100, height, width, 1))\n",
    "    train.create_dataset('groups', data=grps, compression='gzip', chunks=(1, 100, height, width, 1))\n",
    "    test = f.create_group('test')\n",
    "    test.create_dataset('default', data=test_data, compression='gzip', chunks=(1, 100, height, width, 1))\n",
    "    test.create_dataset('groups', data=test_grps, compression='gzip', chunks=(1, 100, height, width, 1))"
   ]
  },
  {
   "cell_type": "markdown",
   "metadata": {},
   "source": [
    "# References\n",
    "[1] P. Földiák, [Forming sparse representations by local anti-Hebbian learning](http://citeseerx.ist.psu.edu/viewdoc/download?doi=10.1.1.17.1244&rep=rep1&type=pdf), Biological Cybernetics 1990\n",
    "\n",
    "[2] David P. Reichert and Thomas Serre, [Neuronal Synchrony in Complex-Valued Deep Networks](http://arxiv.org/abs/1312.6115), ICLR 2014\n",
    "\n",
    "[3] David E. Rumelhart and David Zipser, [Feature discovery by competitive learning](http://www.sciencedirect.com/science/article/pii/S0364021385800100), Cognitive Science 1985\n"
   ]
  }
 ],
 "metadata": {
  "kernelspec": {
   "display_name": "Python 3",
   "language": "python",
   "name": "python3"
  },
  "language_info": {
   "codemirror_mode": {
    "name": "ipython",
    "version": 3
   },
   "file_extension": ".py",
   "mimetype": "text/x-python",
   "name": "python",
   "nbconvert_exporter": "python",
   "pygments_lexer": "ipython3",
   "version": "3.4.3"
  }
 },
 "nbformat": 4,
 "nbformat_minor": 0
}
