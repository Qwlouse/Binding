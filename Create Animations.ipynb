{
 "cells": [
  {
   "cell_type": "code",
   "execution_count": 1,
   "metadata": {
    "collapsed": true
   },
   "outputs": [],
   "source": [
    "import matplotlib.pyplot as plt\n",
    "import h5py\n",
    "import pickle\n",
    "from matplotlib.colors import hsv_to_rgb\n",
    "import numpy as np\n",
    "from dae import ex\n",
    "import os.path"
   ]
  },
  {
   "cell_type": "code",
   "execution_count": 2,
   "metadata": {
    "collapsed": false,
    "scrolled": true
   },
   "outputs": [
    {
     "name": "stderr",
     "output_type": "stream",
     "text": [
      "WARNING - root - Changed type of config entry \"em.dump_results\" from NoneType to str\n",
      "INFO - binding_dae - Running command 'evaluate'\n",
      "WARNING - binding_dae - No observers have been added to this run\n",
      "INFO - binding_dae - Started\n"
     ]
    },
    {
     "name": "stdout",
     "output_type": "stream",
     "text": [
      "Average Score: 0.6794\n",
      "Average Confidence: 0.8952\n",
      "wrote the results to Results/multi_mnist_30_3.pickle"
     ]
    },
    {
     "name": "stderr",
     "output_type": "stream",
     "text": [
      "INFO - binding_dae - Result: 0.6794270494870049\n",
      "INFO - binding_dae - Completed after 0:03:08\n",
      "/home/greff/venv/py3/lib/python3.4/site-packages/matplotlib/pyplot.py:516: RuntimeWarning: More than 20 figures have been opened. Figures created through the pyplot interface (`matplotlib.pyplot.figure`) are retained until explicitly closed and may consume too much memory. (To control this warning, see the rcParam `figure.max_open_warning`).\n",
      "  max_open_warning, RuntimeWarning)\n",
      "WARNING - root - Changed type of config entry \"em.dump_results\" from NoneType to str\n",
      "INFO - binding_dae - Running command 'evaluate'\n",
      "WARNING - binding_dae - No observers have been added to this run\n",
      "INFO - binding_dae - Started\n"
     ]
    },
    {
     "name": "stdout",
     "output_type": "stream",
     "text": [
      "\n",
      "Average Score: 0.8916"
     ]
    },
    {
     "name": "stderr",
     "output_type": "stream",
     "text": [
      "INFO - binding_dae - Result: 0.8916011324539921\n",
      "INFO - binding_dae - Completed after 0:00:04\n",
      "/home/greff/venv/py3/lib/python3.4/site-packages/matplotlib/pyplot.py:516: RuntimeWarning: More than 20 figures have been opened. Figures created through the pyplot interface (`matplotlib.pyplot.figure`) are retained until explicitly closed and may consume too much memory. (To control this warning, see the rcParam `figure.max_open_warning`).\n",
      "  max_open_warning, RuntimeWarning)\n",
      "WARNING - root - Changed type of config entry \"em.dump_results\" from NoneType to str\n",
      "INFO - binding_dae - Running command 'evaluate'\n",
      "WARNING - binding_dae - No observers have been added to this run\n",
      "INFO - binding_dae - Started\n"
     ]
    },
    {
     "name": "stdout",
     "output_type": "stream",
     "text": [
      "\n",
      "Average Confidence: 0.9474\n",
      "wrote the results to Results/simple_superpos_30_2.pickle\n",
      "Average Score: 0.9537\n",
      "Average Confidence: 0.9470\n",
      "wrote the results to Results/shapes_30_3.pickle"
     ]
    },
    {
     "name": "stderr",
     "output_type": "stream",
     "text": [
      "INFO - binding_dae - Result: 0.9537316145962019\n",
      "INFO - binding_dae - Completed after 0:01:00\n",
      "/home/greff/venv/py3/lib/python3.4/site-packages/matplotlib/pyplot.py:516: RuntimeWarning: More than 20 figures have been opened. Figures created through the pyplot interface (`matplotlib.pyplot.figure`) are retained until explicitly closed and may consume too much memory. (To control this warning, see the rcParam `figure.max_open_warning`).\n",
      "  max_open_warning, RuntimeWarning)\n",
      "WARNING - root - Changed type of config entry \"em.dump_results\" from NoneType to str\n",
      "INFO - binding_dae - Running command 'evaluate'\n",
      "WARNING - binding_dae - No observers have been added to this run\n",
      "INFO - binding_dae - Started\n"
     ]
    },
    {
     "name": "stdout",
     "output_type": "stream",
     "text": [
      "\n",
      "Average Score: 0.5882\n",
      "Average Confidence: 0.9480\n",
      "wrote the results to Results/mnist_shape_30_2.pickle"
     ]
    },
    {
     "name": "stderr",
     "output_type": "stream",
     "text": [
      "INFO - binding_dae - Result: 0.588232954116256\n",
      "INFO - binding_dae - Completed after 0:00:50\n",
      "/home/greff/venv/py3/lib/python3.4/site-packages/matplotlib/pyplot.py:516: RuntimeWarning: More than 20 figures have been opened. Figures created through the pyplot interface (`matplotlib.pyplot.figure`) are retained until explicitly closed and may consume too much memory. (To control this warning, see the rcParam `figure.max_open_warning`).\n",
      "  max_open_warning, RuntimeWarning)\n",
      "WARNING - root - Changed type of config entry \"em.dump_results\" from NoneType to str\n",
      "INFO - binding_dae - Running command 'evaluate'\n",
      "WARNING - binding_dae - No observers have been added to this run\n",
      "INFO - binding_dae - Started\n"
     ]
    },
    {
     "name": "stdout",
     "output_type": "stream",
     "text": [
      "\n",
      "Average Score: 0.9853\n",
      "Average Confidence: 0.9785\n",
      "wrote the results to Results/bars_30_12.pickle"
     ]
    },
    {
     "name": "stderr",
     "output_type": "stream",
     "text": [
      "INFO - binding_dae - Result: 0.9853389285150709\n",
      "INFO - binding_dae - Completed after 0:02:33\n",
      "/home/greff/venv/py3/lib/python3.4/site-packages/matplotlib/pyplot.py:516: RuntimeWarning: More than 20 figures have been opened. Figures created through the pyplot interface (`matplotlib.pyplot.figure`) are retained until explicitly closed and may consume too much memory. (To control this warning, see the rcParam `figure.max_open_warning`).\n",
      "  max_open_warning, RuntimeWarning)\n",
      "WARNING - root - Changed type of config entry \"em.dump_results\" from NoneType to str\n",
      "INFO - binding_dae - Running command 'evaluate'\n",
      "WARNING - binding_dae - No observers have been added to this run\n",
      "INFO - binding_dae - Started\n"
     ]
    },
    {
     "name": "stdout",
     "output_type": "stream",
     "text": [
      "\n",
      "Average Score: 0.8972\n",
      "Average Confidence: 0.9830\n",
      "wrote the results to Results/corners_30_5.pickle"
     ]
    },
    {
     "name": "stderr",
     "output_type": "stream",
     "text": [
      "INFO - binding_dae - Result: 0.8971806767597252\n",
      "INFO - binding_dae - Completed after 0:01:31\n"
     ]
    },
    {
     "name": "stdout",
     "output_type": "stream",
     "text": [
      "\n"
     ]
    },
    {
     "name": "stderr",
     "output_type": "stream",
     "text": [
      "/home/greff/venv/py3/lib/python3.4/site-packages/matplotlib/pyplot.py:516: RuntimeWarning: More than 20 figures have been opened. Figures created through the pyplot interface (`matplotlib.pyplot.figure`) are retained until explicitly closed and may consume too much memory. (To control this warning, see the rcParam `figure.max_open_warning`).\n",
      "  max_open_warning, RuntimeWarning)\n"
     ]
    }
   ],
   "source": [
    "# run a longer (30 iterations) evaluation for visualization\n",
    "datasets = {\n",
    "    'bars': 12, \n",
    "    'corners': 5,\n",
    "    'shapes': 3,\n",
    "    'multi_mnist': 3,\n",
    "    'mnist_shape': 2,\n",
    "    'simple_superpos':2\n",
    "}\n",
    "nr_iters = 30\n",
    "nrows = 10\n",
    "ncols = 12\n",
    "\n",
    "\n",
    "\n",
    "for ds, k in datasets.items():\n",
    "    results_filename = 'Results/{}_{}_{}.pickle'.format(ds, nr_iters, k)\n",
    "    animation_dir = 'animations/{}'.format(ds)\n",
    "    if not os.path.exists(animation_dir):\n",
    "        os.makedirs(animation_dir)\n",
    "    \n",
    "    ex.run_command('evaluate', config_updates={\n",
    "               'dataset.name': ds,\n",
    "               'net_filename': 'Networks/best_{}_dae.h5'.format(ds),\n",
    "               'em.k': k,\n",
    "               'em.nr_iters': 30,\n",
    "               'em.dump_results': results_filename,\n",
    "                'em.nr_samples': nrows * ncols,\n",
    "               'seed': 42})    \n",
    "    \n",
    "    with h5py.File('/home/greff/Datasets/{}.h5'.format(ds)) as f:\n",
    "        true_groups = f['test']['groups'][:]\n",
    "    with open(results_filename, 'rb') as f:\n",
    "        scores, likelihoods, results = pickle.load(f)\n",
    "    \n",
    "    if results.shape[-1] != 3:\n",
    "        nr_colors = results.shape[-1]\n",
    "        hsv_colors = np.ones((nr_colors, 3))\n",
    "        hsv_colors[:, 0] = (np.linspace(0, 1, nr_colors, endpoint=False) + 2/3) % 1.0\n",
    "        color_conv = hsv_to_rgb(hsv_colors)\n",
    "        results = results.reshape(-1, nr_colors).dot(color_conv).reshape(results.shape[:-1] + (3,))\n",
    "    \n",
    "    for it in range(nr_iters+1):\n",
    "        fig, axes = plt.subplots(nrows=nrows, ncols=ncols, figsize=(ncols, nrows))\n",
    "        for r in range(nrows):\n",
    "            for c in range(ncols):\n",
    "                axes[r, c].imshow(results[ncols*r + c, it, 0, :, :, 0, :], interpolation='nearest')\n",
    "                axes[r, c].set_xticks([])\n",
    "                axes[r, c].set_yticks([])\n",
    "        plt.subplots_adjust(wspace=0, hspace=0)\n",
    "        fig.savefig(animation_dir + '/img_{:02d}.png'.format(it), bbox_inches='tight', pad_inches=0, dpi=72.26)"
   ]
  },
  {
   "cell_type": "code",
   "execution_count": 8,
   "metadata": {
    "collapsed": false,
    "scrolled": true
   },
   "outputs": [
    {
     "name": "stderr",
     "output_type": "stream",
     "text": [
      "WARNING - root - Changed type of config entry \"em.dump_results\" from NoneType to str\n",
      "INFO - binding_dae - Running command 'evaluate'\n",
      "WARNING - binding_dae - No observers have been added to this run\n",
      "INFO - binding_dae - Started\n",
      "INFO - binding_dae - Result: 0.29725815533634\n",
      "INFO - binding_dae - Completed after 0:00:07\n",
      "/home/greff/venv/py3/lib/python3.4/site-packages/matplotlib/pyplot.py:516: RuntimeWarning: More than 20 figures have been opened. Figures created through the pyplot interface (`matplotlib.pyplot.figure`) are retained until explicitly closed and may consume too much memory. (To control this warning, see the rcParam `figure.max_open_warning`).\n",
      "  max_open_warning, RuntimeWarning)\n",
      "WARNING - root - Changed type of config entry \"em.dump_results\" from NoneType to str\n",
      "INFO - binding_dae - Running command 'evaluate'\n",
      "WARNING - binding_dae - No observers have been added to this run\n",
      "INFO - binding_dae - Started\n"
     ]
    },
    {
     "name": "stdout",
     "output_type": "stream",
     "text": [
      "Average Score: 0.2973\n",
      "Average Confidence: 1.0000\n",
      "wrote the results to Results/mnist_shape_30_2_train_multi.pickle\n",
      "Average Score: 0.7046\n",
      "Average Confidence: 1.0000\n",
      "wrote the results to Results/corners_30_5_train_multi.pickle"
     ]
    },
    {
     "name": "stderr",
     "output_type": "stream",
     "text": [
      "INFO - binding_dae - Result: 0.7045697660668432\n",
      "INFO - binding_dae - Completed after 0:00:10\n",
      "/home/greff/venv/py3/lib/python3.4/site-packages/matplotlib/pyplot.py:516: RuntimeWarning: More than 20 figures have been opened. Figures created through the pyplot interface (`matplotlib.pyplot.figure`) are retained until explicitly closed and may consume too much memory. (To control this warning, see the rcParam `figure.max_open_warning`).\n",
      "  max_open_warning, RuntimeWarning)\n",
      "WARNING - root - Changed type of config entry \"em.dump_results\" from NoneType to str\n",
      "INFO - binding_dae - Running command 'evaluate'\n",
      "WARNING - binding_dae - No observers have been added to this run\n",
      "INFO - binding_dae - Started\n"
     ]
    },
    {
     "name": "stdout",
     "output_type": "stream",
     "text": [
      "\n",
      "Average Score: 0.8507\n",
      "Average Confidence: 1.0000\n",
      "wrote the results to Results/bars_30_12_train_multi.pickle"
     ]
    },
    {
     "name": "stderr",
     "output_type": "stream",
     "text": [
      "INFO - binding_dae - Result: 0.8507084656354675\n",
      "INFO - binding_dae - Completed after 0:00:18\n",
      "/home/greff/venv/py3/lib/python3.4/site-packages/matplotlib/pyplot.py:516: RuntimeWarning: More than 20 figures have been opened. Figures created through the pyplot interface (`matplotlib.pyplot.figure`) are retained until explicitly closed and may consume too much memory. (To control this warning, see the rcParam `figure.max_open_warning`).\n",
      "  max_open_warning, RuntimeWarning)\n",
      "WARNING - root - Changed type of config entry \"em.dump_results\" from NoneType to str\n",
      "INFO - binding_dae - Running command 'evaluate'\n",
      "WARNING - binding_dae - No observers have been added to this run\n",
      "INFO - binding_dae - Started\n"
     ]
    },
    {
     "name": "stdout",
     "output_type": "stream",
     "text": [
      "\n",
      "Average Score: 0.6322\n",
      "Average Confidence: 1.0000\n",
      "wrote the results to Results/multi_mnist_30_3_train_multi.pickle"
     ]
    },
    {
     "name": "stderr",
     "output_type": "stream",
     "text": [
      "INFO - binding_dae - Result: 0.6322366970257197\n",
      "INFO - binding_dae - Completed after 0:00:13\n",
      "/home/greff/venv/py3/lib/python3.4/site-packages/matplotlib/pyplot.py:516: RuntimeWarning: More than 20 figures have been opened. Figures created through the pyplot interface (`matplotlib.pyplot.figure`) are retained until explicitly closed and may consume too much memory. (To control this warning, see the rcParam `figure.max_open_warning`).\n",
      "  max_open_warning, RuntimeWarning)\n",
      "WARNING - root - Changed type of config entry \"em.dump_results\" from NoneType to str\n",
      "INFO - binding_dae - Running command 'evaluate'\n",
      "WARNING - binding_dae - No observers have been added to this run\n",
      "INFO - binding_dae - Started\n"
     ]
    },
    {
     "name": "stdout",
     "output_type": "stream",
     "text": [
      "\n",
      "Average Score: 0.7558\n",
      "Average Confidence: 1.0000\n",
      "wrote the results to Results/shapes_30_3_train_multi.pickle"
     ]
    },
    {
     "name": "stderr",
     "output_type": "stream",
     "text": [
      "INFO - binding_dae - Result: 0.7558324914261669\n",
      "INFO - binding_dae - Completed after 0:00:07\n"
     ]
    },
    {
     "name": "stdout",
     "output_type": "stream",
     "text": [
      "\n"
     ]
    },
    {
     "name": "stderr",
     "output_type": "stream",
     "text": [
      "/home/greff/venv/py3/lib/python3.4/site-packages/matplotlib/pyplot.py:516: RuntimeWarning: More than 20 figures have been opened. Figures created through the pyplot interface (`matplotlib.pyplot.figure`) are retained until explicitly closed and may consume too much memory. (To control this warning, see the rcParam `figure.max_open_warning`).\n",
      "  max_open_warning, RuntimeWarning)\n"
     ]
    }
   ],
   "source": [
    "# run a longer (30 iterations) evaluation for visualization\n",
    "datasets = {\n",
    "    'bars': 12, \n",
    "    'corners': 5,\n",
    "    'shapes': 3,\n",
    "    'multi_mnist': 3,\n",
    "    'mnist_shape': 2,\n",
    "#    'simple_superpos':2\n",
    "}\n",
    "nr_iters = 30\n",
    "nrows = 10\n",
    "ncols = 12\n",
    "\n",
    "\n",
    "\n",
    "for ds, k in datasets.items():\n",
    "    results_filename = 'Results/{}_{}_{}_train_multi.pickle'.format(ds, nr_iters, k)\n",
    "    animation_dir = 'animations/{}_train_multi'.format(ds)\n",
    "    if not os.path.exists(animation_dir):\n",
    "        os.makedirs(animation_dir)\n",
    "    \n",
    "    ex.run_command('evaluate', config_updates={\n",
    "               'dataset.name': ds,\n",
    "               'net_filename': 'Networks/best_{}_dae_train_multi.h5'.format(ds),\n",
    "               'em.k': k,\n",
    "               'em.e_step': 'max',\n",
    "               'em.nr_iters': nr_iters,\n",
    "               'em.dump_results': results_filename,\n",
    "               'em.nr_samples': nrows * ncols,\n",
    "               'seed': 42})\n",
    "    \n",
    "    with h5py.File('/home/greff/Datasets/{}.h5'.format(ds)) as f:\n",
    "        input_image = f['test']['default'][:]\n",
    "        true_groups = f['test']['groups'][:]\n",
    "    with open(results_filename, 'rb') as f:\n",
    "        scores, likelihoods, results = pickle.load(f)\n",
    "    \n",
    "    if results.shape[-1] != 3:\n",
    "        nr_colors = results.shape[-1]\n",
    "        hsv_colors = np.ones((nr_colors, 3))\n",
    "        hsv_colors[:, 0] = (np.linspace(0, 1, nr_colors, endpoint=False) + 2/3) % 1.0\n",
    "        color_conv = hsv_to_rgb(hsv_colors)\n",
    "        results = results.reshape(-1, nr_colors).dot(color_conv).reshape(results.shape[:-1] + (3,))\n",
    "    \n",
    "    for it in range(nr_iters+1):\n",
    "        fig, axes = plt.subplots(nrows=nrows, ncols=ncols, figsize=(ncols, nrows))\n",
    "        for r in range(nrows):\n",
    "            for c in range(ncols):\n",
    "                groups = results[ncols*r + c, it, 0, :, :, 0, :]\n",
    "                in_img = input_image[0, ncols*r + c] * 0.7 + 0.3\n",
    "                \n",
    "                axes[r, c].imshow(groups * in_img, interpolation='nearest')\n",
    "                axes[r, c].set_xticks([])\n",
    "                axes[r, c].set_yticks([])\n",
    "        plt.subplots_adjust(wspace=0, hspace=0)\n",
    "        fig.savefig(animation_dir + '/img_{:02d}.png'.format(it), bbox_inches='tight', pad_inches=0, dpi=72.26)"
   ]
  },
  {
   "cell_type": "code",
   "execution_count": 1,
   "metadata": {
    "collapsed": true
   },
   "outputs": [],
   "source": [
    "import os.path"
   ]
  },
  {
   "cell_type": "code",
   "execution_count": 2,
   "metadata": {
    "collapsed": true
   },
   "outputs": [],
   "source": [
    "subdirs = [f for f in os.listdir('animations') if os.path.isdir(os.path.join('animations', f))]"
   ]
  },
  {
   "cell_type": "code",
   "execution_count": 3,
   "metadata": {
    "collapsed": false
   },
   "outputs": [],
   "source": [
    "from subprocess import call\n",
    "\n",
    "for d in subdirs:\n",
    "    call(['convert', '-delay', '20', '-loop', '0', 'animations/{}/*.png'.format(d), 'animations/{}.gif'.format(d)])\n"
   ]
  },
  {
   "cell_type": "code",
   "execution_count": null,
   "metadata": {
    "collapsed": true
   },
   "outputs": [],
   "source": []
  }
 ],
 "metadata": {
  "kernelspec": {
   "display_name": "Python 3",
   "language": "python",
   "name": "python3"
  },
  "language_info": {
   "codemirror_mode": {
    "name": "ipython",
    "version": 3
   },
   "file_extension": ".py",
   "mimetype": "text/x-python",
   "name": "python",
   "nbconvert_exporter": "python",
   "pygments_lexer": "ipython3",
   "version": "3.4.3"
  }
 },
 "nbformat": 4,
 "nbformat_minor": 0
}
