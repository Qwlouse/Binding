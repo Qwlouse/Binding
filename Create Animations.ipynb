{
 "cells": [
  {
   "cell_type": "code",
   "execution_count": 1,
   "metadata": {
    "collapsed": true
   },
   "outputs": [],
   "source": [
    "import matplotlib.pyplot as plt\n",
    "import h5py\n",
    "import pickle\n",
    "from matplotlib.colors import hsv_to_rgb\n",
    "import numpy as np\n",
    "from dae import ex\n",
    "import os.path"
   ]
  },
  {
   "cell_type": "code",
   "execution_count": null,
   "metadata": {
    "collapsed": false,
    "scrolled": true
   },
   "outputs": [],
   "source": [
    "# run a longer (30 iterations) evaluation for visualization\n",
    "datasets = {\n",
    "    'bars': 12, \n",
    "    'corners': 5,\n",
    "    'shapes': 3,\n",
    "    'multi_mnist': 3,\n",
    "    'mnist_shape': 2,\n",
    "    'simple_superpos':2\n",
    "}\n",
    "nr_iters = 30\n",
    "nrows = 10\n",
    "ncols = 12\n",
    "\n",
    "\n",
    "\n",
    "for ds, k in datasets.items():\n",
    "    results_filename = 'Results/{}_{}_{}.pickle'.format(ds, nr_iters, k)\n",
    "    animation_dir = 'animations/{}'.format(ds)\n",
    "    if not os.path.exists(animation_dir):\n",
    "        os.makedirs(animation_dir)\n",
    "    \n",
    "    ex.run_command('evaluate', config_updates={\n",
    "               'dataset.name': ds,\n",
    "               'net_filename': 'Networks/best_{}_dae.h5'.format(ds),\n",
    "               'em.k': k,\n",
    "               'em.nr_iters': 30,\n",
    "               'em.dump_results': results_filename,\n",
    "               'seed': 42})    \n",
    "    \n",
    "    with h5py.File('/home/greff/Datasets/{}.h5'.format(ds)) as f:\n",
    "        true_groups = f['test']['groups'][:]\n",
    "    with open(results_filename, 'rb') as f:\n",
    "        scores, likelihoods, results = pickle.load(f)\n",
    "    \n",
    "    if results.shape[-1] != 3:\n",
    "        nr_colors = results.shape[-1]\n",
    "        hsv_colors = np.ones((nr_colors, 3))\n",
    "        hsv_colors[:, 0] = (np.linspace(0, 1, nr_colors, endpoint=False) + 2/3) % 1.0\n",
    "        color_conv = hsv_to_rgb(hsv_colors)\n",
    "        results = results.reshape(-1, nr_colors).dot(color_conv).reshape(results.shape[:-1] + (3,))\n",
    "    \n",
    "    for it in range(nr_iters+1):\n",
    "        fig, axes = plt.subplots(nrows=nrows, ncols=ncols, figsize=(ncols, nrows))\n",
    "        for r in range(nrows):\n",
    "            for c in range(ncols):\n",
    "                axes[r, c].imshow(results[ncols*r + c, it, 0, :, :, 0, :], interpolation='nearest')\n",
    "                axes[r, c].set_xticks([])\n",
    "                axes[r, c].set_yticks([])\n",
    "        plt.subplots_adjust(wspace=0, hspace=0)\n",
    "        fig.savefig(animation_dir + '/img_{:02d}.png'.format(it), bbox_inches='tight', pad_inches=0, dpi=72.26)"
   ]
  },
  {
   "cell_type": "code",
   "execution_count": 6,
   "metadata": {
    "collapsed": false
   },
   "outputs": [],
   "source": [
    "from subprocess import call\n",
    "\n",
    "for ds in datasets:\n",
    "    call(['convert', '-delay', '10', '-loop', '0', 'animations/{}/*.png'.format(ds), 'animations/{}.gif'.format(ds)])\n"
   ]
  }
 ],
 "metadata": {
  "kernelspec": {
   "display_name": "Python 3",
   "language": "python",
   "name": "python3"
  },
  "language_info": {
   "codemirror_mode": {
    "name": "ipython",
    "version": 3
   },
   "file_extension": ".py",
   "mimetype": "text/x-python",
   "name": "python",
   "nbconvert_exporter": "python",
   "pygments_lexer": "ipython3",
   "version": "3.4.3"
  }
 },
 "nbformat": 4,
 "nbformat_minor": 0
}
